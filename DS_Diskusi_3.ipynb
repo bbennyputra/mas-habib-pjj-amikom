{
  "nbformat": 4,
  "nbformat_minor": 0,
  "metadata": {
    "colab": {
      "provenance": [],
      "authorship_tag": "ABX9TyNEJrT71uKSKPSZDqr+/3fi",
      "include_colab_link": true
    },
    "kernelspec": {
      "name": "python3",
      "display_name": "Python 3"
    },
    "language_info": {
      "name": "python"
    }
  },
  "cells": [
    {
      "cell_type": "markdown",
      "metadata": {
        "id": "view-in-github",
        "colab_type": "text"
      },
      "source": [
        "<a href=\"https://colab.research.google.com/github/habib-roy/google-colab-source-code/blob/master/DS_Diskusi_3.ipynb\" target=\"_parent\"><img src=\"https://colab.research.google.com/assets/colab-badge.svg\" alt=\"Open In Colab\"/></a>"
      ]
    },
    {
      "cell_type": "code",
      "execution_count": null,
      "metadata": {
        "colab": {
          "base_uri": "https://localhost:8080/"
        },
        "id": "kM1wrm1JgI12",
        "outputId": "9f82231f-8d2d-4fd9-fb67-a99bdfeec281"
      },
      "outputs": [
        {
          "output_type": "execute_result",
          "data": {
            "text/plain": [
              "[[15, 17, 34, 32], [45, 70, 62, 75, 80], [90, 81, 82, 100, 99, 83]]"
            ]
          },
          "metadata": {},
          "execution_count": 3
        }
      ],
      "source": [
        "# dataset\n",
        "dataset = [\n",
        "    [15, 17, 34, 32],\n",
        "    [45, 70, 62, 75, 80],\n",
        "    [90, 81, 82, 100, 99, 83]\n",
        "]\n",
        "\n",
        "dataset"
      ]
    },
    {
      "cell_type": "code",
      "source": [
        "y_test = [\n",
        "    'Apel',\n",
        "    'Tomat',\n",
        "    'Delima',\n",
        "    'Delima',\n",
        "    'Delima',\n",
        "    'Tomat',\n",
        "    'Tomat',\n",
        "    'Delima',\n",
        "    'Delima',\n",
        "    'Apel',\n",
        "    'Tomat',\n",
        "    'Apel',\n",
        "    'Apel',\n",
        "    'Apel',\n",
        "    'Tomat'\n",
        "]\n",
        "\n",
        "y_pred = [\n",
        "    'Apel',\n",
        "    'Apel',\n",
        "    'Delima',\n",
        "    'Delima',\n",
        "    'Apel',\n",
        "    'Tomat',\n",
        "    'Tomat',\n",
        "    'Delima',\n",
        "    'Apel',\n",
        "    'Apel',\n",
        "    'Tomat',\n",
        "    'Apel',\n",
        "    'Apel',\n",
        "    'Apel',\n",
        "    'Delima'\n",
        "]"
      ],
      "metadata": {
        "id": "sh76fAOc0Wl8"
      },
      "execution_count": 1,
      "outputs": []
    },
    {
      "cell_type": "code",
      "source": [
        "import matplotlib.pyplot as plt\n",
        "from sklearn.metrics import classification_report, confusion_matrix, ConfusionMatrixDisplay\n",
        "\n",
        "# show result for evaluation algorithm with confusion matrix\n",
        "confusionMatrix = confusion_matrix(y_test,y_pred)\n",
        "classificationReport = classification_report(y_test,y_pred)\n",
        "print(confusionMatrix)\n",
        "print(classificationReport)\n",
        "cmDisplay = ConfusionMatrixDisplay(confusion_matrix=confusionMatrix, display_labels=['Apel','Tomat','Delima'])\n",
        "cmDisplay.plot()\n",
        "plt.show()"
      ],
      "metadata": {
        "colab": {
          "base_uri": "https://localhost:8080/",
          "height": 681
        },
        "id": "fC7s3NwJ06fl",
        "outputId": "1694f14f-a36f-43aa-b622-213e9191e013"
      },
      "execution_count": 3,
      "outputs": [
        {
          "output_type": "stream",
          "name": "stdout",
          "text": [
            "[[5 0 0]\n",
            " [2 3 0]\n",
            " [1 1 3]]\n",
            "              precision    recall  f1-score   support\n",
            "\n",
            "        Apel       0.62      1.00      0.77         5\n",
            "      Delima       0.75      0.60      0.67         5\n",
            "       Tomat       1.00      0.60      0.75         5\n",
            "\n",
            "    accuracy                           0.73        15\n",
            "   macro avg       0.79      0.73      0.73        15\n",
            "weighted avg       0.79      0.73      0.73        15\n",
            "\n"
          ]
        },
        {
          "output_type": "display_data",
          "data": {
            "text/plain": [
              "<Figure size 640x480 with 2 Axes>"
            ],
            "image/png": "[encoded data removed]"
          },
          "metadata": {}
        }
      ]
    }
  ]
}